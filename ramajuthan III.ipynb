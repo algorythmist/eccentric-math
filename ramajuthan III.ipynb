{
 "cells": [
  {
   "cell_type": "markdown",
   "id": "b1fef419",
   "metadata": {},
   "source": [
    "# Redefining Convergence\n"
   ]
  },
  {
   "cell_type": "markdown",
   "id": "d9a8f0f0",
   "metadata": {},
   "source": [
    "We have now seen a couple of proofs that are often sited but are nonetheless wrong. Now we get to the correct proof. Since we have already shown that the sum of the sequence $1+2+3+… $diverges, the only way to get around that is to redefine by what we mean by the convergence of a sum. We will examine three different generalizations of the definition of the sum of an infinite sequence, each one more liberal."
   ]
  },
  {
   "cell_type": "markdown",
   "id": "6c17ec94",
   "metadata": {},
   "source": [
    "### Cesaro Summmation\n",
    "\n",
    "As before, let $a_n$ be a sequence and let the sequence of partial sums be\n",
    "\n",
    "$$\n",
    "s_n := \\sum_{k=0}^n a_k\n",
    "$$\n",
    "\n",
    "The sequence $a_n$ is called Cesàro summable, with Cesàro sum \n",
    "$A ∈ R {\\displaystyle \\mathbb {R} } \\mathbb {R}$ , if, as $n$ tends to infinity, \n",
    "the arithmetic mean of its first $n$ partial sums $s_1, s_2, ..., s_n$ tends to $A$:\n",
    "\n",
    "$$\n",
    "\\lim_{n → ∞} \\frac{1}{n}\\sum_{k = 1}^n s_k = A\n",
    "$$"
   ]
  },
  {
   "cell_type": "markdown",
   "id": "85753f3b",
   "metadata": {},
   "source": [
    "### Abel Summation\n"
   ]
  },
  {
   "cell_type": "markdown",
   "id": "5a552579",
   "metadata": {},
   "source": [
    "### References\n",
    "- https://en.wikipedia.org/wiki/Ces%C3%A0ro_summation\n",
    "- https://en.wikipedia.org/wiki/Divergent_series\n"
   ]
  },
  {
   "cell_type": "code",
   "execution_count": null,
   "id": "ddca498f",
   "metadata": {},
   "outputs": [],
   "source": []
  }
 ],
 "metadata": {
  "kernelspec": {
   "display_name": "eccentric-math",
   "language": "python",
   "name": "eccentric-math"
  },
  "language_info": {
   "codemirror_mode": {
    "name": "ipython",
    "version": 3
   },
   "file_extension": ".py",
   "mimetype": "text/x-python",
   "name": "python",
   "nbconvert_exporter": "python",
   "pygments_lexer": "ipython3",
   "version": "3.11.6"
  },
  "widgets": {
   "application/vnd.jupyter.widget-state+json": {
    "state": {},
    "version_major": 2,
    "version_minor": 0
   }
  }
 },
 "nbformat": 4,
 "nbformat_minor": 5
}
