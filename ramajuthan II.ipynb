{
 "cells": [
  {
   "cell_type": "markdown",
   "id": "b1fef419",
   "metadata": {},
   "source": [
    "# Analytic Continuation and the Zeta function\n"
   ]
  },
  {
   "cell_type": "markdown",
   "id": "207ac3b9",
   "metadata": {},
   "source": [
    "The second false proof that this sum converges is quite sophisticated and it is going to lead us deep into the realm \n",
    "of complex analysis and analytic continuation."
   ]
  },
  {
   "cell_type": "markdown",
   "id": "a998bd32",
   "metadata": {},
   "source": [
    "### Rieman's Zeta Function\n",
    "\n",
    "Define $ζ(k) = \\sum_{n=0}^{\\infty} n^{-k}$\n",
    "\n",
    "It is relatively easy to prove that these sequence converges for $n > 1$ but diverges for \n",
    "$n\\leq 1$.\n"
   ]
  },
  {
   "cell_type": "markdown",
   "id": "d62ae986",
   "metadata": {},
   "source": [
    "Riemann expanded the defition from the integers to the complex plane\n",
    "$ζ(s) = \\sum_{n=0}^{\\infty} n^{-s}$\n",
    "\n",
    "and demonstrated that the sequence converges to an analytic function in the region \n",
    "$Re(s) > 1$"
   ]
  },
  {
   "cell_type": "markdown",
   "id": "a2794564",
   "metadata": {},
   "source": [
    "### Complex Numbers\n",
    "\n",
    "Complex numbers are numbers of the form $a+ib$ where a,b are real numbers and i is the *imaginary unit*, \n",
    "which has the property $i^2 = -1$. The set of all complex numbers is denoted by $\\mathbb{C}$.\n",
    "Pretty much all the common functions that we know from calculus, such as sine, cosine, exponential, logarithm, polynomials et cetera, can be extened to functions of complex numbers.\n",
    "\n"
   ]
  },
  {
   "cell_type": "markdown",
   "id": "340e3880",
   "metadata": {},
   "source": [
    "TODO: What is analytic function. Show a pic of the function\n",
    "\n",
    "Use the pic to explain analytic continuation. Show pic of analytic continuation"
   ]
  },
  {
   "cell_type": "markdown",
   "id": "b4be67fe",
   "metadata": {},
   "source": [
    "The analytic extension of this function has a (more or less) closed-form expression\n",
    "\n",
    "<img src=\"zeta.svg\"/>\n",
    "\n",
    "<img src=\"zeta-functional.svg\"/>"
   ]
  },
  {
   "cell_type": "markdown",
   "id": "f0829637",
   "metadata": {},
   "source": [
    "You can use either the integral or the fn equation form to evaluate $\\zeta(-1) = -1/12$. \n",
    "It is easier using the funcitonal form. \n",
    "\n",
    "This leads people to say that since $\\zeta(-1) = -1/12$, then \n",
    "$\\sum_{k=0}^{\\infty} k = -1/12$.\n",
    "\n",
    "But this is incorrect because the summation expression for the zeta function only holds in the region Re(s)>1 and not in the rest of the complex plane. We can use either of the the other expression in the rest of the plane but not the summation.\n"
   ]
  },
  {
   "cell_type": "markdown",
   "id": "c5fdc3b1",
   "metadata": {},
   "source": [
    "Note: Maybe note Riemman's conjecture"
   ]
  },
  {
   "cell_type": "markdown",
   "id": "38ddba83",
   "metadata": {},
   "source": [
    "### References\n",
    "- https://www.youtube.com/watch?v=sD0NjbwqlYw\n",
    "- https://en.wikipedia.org/wiki/Riemann_zeta_function\n",
    "- https://en.wikipedia.org/wiki/Zeta_function_regularization\n",
    "\n"
   ]
  },
  {
   "cell_type": "code",
   "execution_count": null,
   "id": "ddca498f",
   "metadata": {},
   "outputs": [],
   "source": []
  }
 ],
 "metadata": {
  "kernelspec": {
   "display_name": "eccentric-math",
   "language": "python",
   "name": "eccentric-math"
  },
  "language_info": {
   "codemirror_mode": {
    "name": "ipython",
    "version": 3
   },
   "file_extension": ".py",
   "mimetype": "text/x-python",
   "name": "python",
   "nbconvert_exporter": "python",
   "pygments_lexer": "ipython3",
   "version": "3.11.6"
  },
  "widgets": {
   "application/vnd.jupyter.widget-state+json": {
    "state": {},
    "version_major": 2,
    "version_minor": 0
   }
  }
 },
 "nbformat": 4,
 "nbformat_minor": 5
}
