{
 "cells": [
  {
   "cell_type": "markdown",
   "id": "b1fef419",
   "metadata": {},
   "source": [
    "# The Ramajuthan Paradox\n",
    "\n",
    "$$\n",
    "1+2+3+4+\\ldots = -\\frac{1}{12}\n",
    "$$\n"
   ]
  },
  {
   "cell_type": "markdown",
   "id": "3af7ecac",
   "metadata": {},
   "source": [
    "## Introduction\n",
    "\n",
    "If you take all integers, from 1 to infinity, and sum them up, the result you get is the number $-\\frac{1}{12}$.\n",
    "This claim sounds preposterous. Yet there are many articles and YouTube videos talking about it and even demonstrating its validity. \n",
    "\n",
    "The majority of the proofs found online are wrong. The \"correct\" way to demonstrate this result is rather obscure and depends on a mathematical construction called the \"Rmajuthan Summation\". The result is even used today in Quantum Field Theories for the purposes of what is called \"renormalization\", which is the act of taking a divergent sequence and forcing it to converge.\n",
    "\n",
    "When I first encountered this claim, I was naturally astounded, and felt compelled to explore more. \n",
    "I found the process of unravelling this paradox singularly interesting. In this article, I will first demonstrate some of the false proofs of this result and explain their falacy. \n",
    "In the end, I will finally demonstrate how one can arrive at an actual proof, by carefully redefining the notion of convergence."
   ]
  },
  {
   "cell_type": "markdown",
   "id": "b02338d9",
   "metadata": {},
   "source": [
    "## Mathematical Preliminaries\n",
    "\n",
    "In mathematical lingo, a sequence is an infinite but ordered collection of numbers, such as $1, 1/2,1/4, 1/8,\\ldots$\n",
    "We can describe the sequence in closed form when we can write down the expression for the nth element in the sequence in terms of n. For the sequence above, the closed form expression is $a_n = 1/2^n$.\n",
    "\n",
    "A sequence $𝑎_𝑛$ converges to a number $𝑎$ if for every choice of a very small number $\\epsilon$, we can find an index $𝑁$ such that $|𝑎−𝑎_n|<𝜖$ for every index $n > N$. A sequence that does not converge, is said to diverge.\n",
    "\n",
    "Unwrapping this definition, it says that after some point, all the elements of the sequence are going to be arbitrarily close to the target value a. For example, the sequence given by $a_n = 1/2^n$ converges to 0 because I can make $1/2^n$ as close to 0 as I want."
   ]
  },
  {
   "cell_type": "markdown",
   "id": "aa94ad49",
   "metadata": {},
   "source": [
    "For every sequence of nmubers $a_n$, we can form the sequence of sums\n",
    "\n",
    "$$\n",
    "s_n := \\sum_{k=0}^n a_k\n",
    "$$\n",
    "\n",
    "For example, for the sequence $a_n = \\frac{1}{2^n}$, the sequence of sums is\n",
    "\n",
    "$$\n",
    "s_n = \\sum_{k=0}^n \\frac{1}{2^k}\n",
    "$$\n",
    "\n",
    "This sequence also happens to converge to the number 2, a fact that we are going to establish in the next section."
   ]
  },
  {
   "cell_type": "markdown",
   "id": "8e2f425b",
   "metadata": {},
   "source": [
    "On the other hand, given the definition, it is easy to see that the sequence $s_n = \\sum_{k=1}^n k$ diverges,\n",
    "because for any number M, however large, I can find a sum that exceeds this number. For example, $s_M$."
   ]
  },
  {
   "cell_type": "markdown",
   "id": "207ac3b9",
   "metadata": {},
   "source": [
    "It would appear that the above proof would conclussively settle the issue. \n",
    "If the sequence diverges, then it does not converge to any number, certainly not $-\\frac{1}{12}$.\n",
    "\n",
    "But mathematicians are curious creatures, who are often not satisfied with simple answers. \n",
    "Since the days of Euler, they have been asking the question: If I were to assign a number to a diverging sequence,\n",
    "what would be the correct number to assign.\n",
    "\n",
    "In what follows, we are going to examine some traditional methods for computing sums of infinite sequences \n",
    "and show how these methods can be abused to obtain the famous paradoxical result."
   ]
  },
  {
   "cell_type": "markdown",
   "id": "c188f1a6",
   "metadata": {},
   "source": [
    "### The summation trick \n",
    "\n",
    "First let's start by using the summation trick for a series that actually converges. \n",
    "$\\sum_1^k \\frac{1}{2^k}$\n",
    "\n",
    "Let $A = \\sum_1^{\\infty} \\frac{1}{2^k}$\n",
    "The $A = 1 +\\frac{1}{2}  \\sum_1^{\\infty} \\frac{1}{2^k}$\n",
    "\n",
    "$A = 1+\\frac{1}{2}  A$\n",
    "\n",
    "solve for A to get $A = 2$, which in this case is correct."
   ]
  },
  {
   "cell_type": "markdown",
   "id": "13eafdcb",
   "metadata": {},
   "source": [
    "Now tet's warm up our abracadabra powers by applying the summation trick to the sum $1-1+1-1+\\ldots$\n",
    "\n",
    "The sequence of partial sums $1, 0, 1, 0, 1,..$ alternates between 0 and 1 so it does not appear to converge.\n",
    "\n",
    "Yet, using the summation trick, I assign the sum to a variable $A = 1–1+1–1+…$\n",
    "\n",
    "Then observe that $A = 1-(1–1+1-…) = 1-A$, \n",
    "\n",
    "We can solve the above equation for $A$ to conclude $A = \\frac{1}{2}$\n"
   ]
  },
  {
   "cell_type": "markdown",
   "id": "fc2fcc1b",
   "metadata": {},
   "source": [
    "Where is the falacy?\n",
    "\n",
    "The proof is wrong because we assumed that A is finite - a fact that we have not proven. If we substitute infinity for A, then the above calculation does not work out, because you have \"infinity = 1- infinity\" and you cannot just add infinity to both sides to get 2*infinity on left hand and 1 on the right."
   ]
  },
  {
   "cell_type": "markdown",
   "id": "80325ac6",
   "metadata": {},
   "source": [
    "If we don't spot the falacy, we can continue along these lines to compute mode infinite sums such as\n",
    "$B = 1-2+3+4-\\ldots$\n",
    "\n",
    "Notice that \n",
    "$A-B = (1-1+1-1\\ldots) - (1-2+3-4 \\ldots) = 1-2+3-4 \\ldots = B$\n",
    "so that $A = 2B$, from which it \"follows\" that $B = 1/4$."
   ]
  },
  {
   "cell_type": "markdown",
   "id": "754165f6",
   "metadata": {},
   "source": [
    "Now for the grand finale. We can put together these flawed proofs to show that \n",
    "$C = 1+2+3+4 \\ldots = -1/12$ \n",
    "\n",
    "Observe \n",
    "$$\n",
    "B-C = (1-2+3-4+\\ldots) - (1+2+3+4+\\ldots) =\\\\\n",
    "-4-8-12 =\\\\\n",
    "-4(1+2+3+\\ldots) =\\\\\n",
    "-4C\n",
    "$$ \n",
    "\n",
    "so that $B=-3C$, from which it \"follows\" that  $C = -B/3 = -1/12$"
   ]
  },
  {
   "cell_type": "markdown",
   "id": "c5fdc3b1",
   "metadata": {},
   "source": [
    "### TODO: Demonstrate how to use this method to obtain different sums"
   ]
  },
  {
   "cell_type": "markdown",
   "id": "96b4ce95",
   "metadata": {},
   "source": [
    "### References\n",
    "- https://en.wikipedia.org/wiki/Grandi%27s_series\n",
    "- https://en.wikipedia.org/wiki/1_%E2%88%92_2_%2B_3_%E2%88%92_4_%2B_%E2%8B%AF\n",
    "- https://www.youtube.com/watch?v=w-I6XTVZXww&t=199s"
   ]
  }
 ],
 "metadata": {
  "kernelspec": {
   "display_name": "eccentric-math",
   "language": "python",
   "name": "eccentric-math"
  },
  "language_info": {
   "codemirror_mode": {
    "name": "ipython",
    "version": 3
   },
   "file_extension": ".py",
   "mimetype": "text/x-python",
   "name": "python",
   "nbconvert_exporter": "python",
   "pygments_lexer": "ipython3",
   "version": "3.11.6"
  }
 },
 "nbformat": 4,
 "nbformat_minor": 5
}
